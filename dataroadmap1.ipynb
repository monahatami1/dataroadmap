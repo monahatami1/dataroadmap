{
  "nbformat": 4,
  "nbformat_minor": 0,
  "metadata": {
    "colab": {
      "provenance": []
    },
    "kernelspec": {
      "name": "python3",
      "display_name": "Python 3"
    },
    "language_info": {
      "name": "python"
    }
  },
  "cells": [
    {
      "cell_type": "code",
      "execution_count": null,
      "metadata": {
        "colab": {
          "base_uri": "https://localhost:8080/"
        },
        "id": "f1nh3bMcEpeU",
        "outputId": "d2a7d7f2-dbae-4318-a333-36ee781a0b48"
      },
      "outputs": [
        {
          "output_type": "stream",
          "name": "stdout",
          "text": [
            "3125\n"
          ]
        }
      ],
      "source": [
        "print(5**5)"
      ]
    },
    {
      "cell_type": "code",
      "source": [
        "for i in range (5):\n",
        "  print(i)"
      ],
      "metadata": {
        "colab": {
          "base_uri": "https://localhost:8080/"
        },
        "id": "pQ7wugXcEs_X",
        "outputId": "df383409-1b98-4ae3-bf7f-1cbb683161e7"
      },
      "execution_count": null,
      "outputs": [
        {
          "output_type": "stream",
          "name": "stdout",
          "text": [
            "0\n",
            "1\n",
            "2\n",
            "3\n",
            "4\n"
          ]
        }
      ]
    },
    {
      "cell_type": "code",
      "source": [
        "# Get user input\n",
        "i = float(input(\"Enter a number: \"))\n",
        "\n",
        "# Calculate the square of the number\n",
        "square = i ** 2\n",
        "\n",
        "# Display the result\n",
        "print(f\"The square of {i} is {square}\")"
      ],
      "metadata": {
        "colab": {
          "base_uri": "https://localhost:8080/"
        },
        "id": "gn1vup6hE1yg",
        "outputId": "4af9c1e7-58d3-49cf-d9e4-2b6a961ed3af"
      },
      "execution_count": null,
      "outputs": [
        {
          "output_type": "stream",
          "name": "stdout",
          "text": [
            "Enter a number: 5\n",
            "The square of 5.0 is 25.0\n"
          ]
        }
      ]
    },
    {
      "cell_type": "code",
      "source": [
        "def calculate_healthy_weight_range(height_m):\n",
        "    # Constants for BMI range\n",
        "    MIN_BMI = 18.5\n",
        "    MAX_BMI = 24.9\n",
        "\n",
        "    # Calculate the minimum and maximum healthy weight\n",
        "    min_weight = MIN_BMI * (height_m ** 2)\n",
        "    max_weight = MAX_BMI * (height_m ** 2)\n",
        "\n",
        "    return min_weight, max_weight\n",
        "\n",
        "def main():\n",
        "    # Get user input for height\n",
        "    height_cm = float(input(\"Enter your height in centimeters: \"))\n",
        "    height_m = height_cm / 100  # Convert height to meters\n",
        "\n",
        "    # Calculate healthy weight range\n",
        "    min_weight, max_weight = calculate_healthy_weight_range(height_m)\n",
        "\n",
        "    # Display the results\n",
        "    print(f\"     برای قد شما که،  کیلو گرم {height_cm}\")\n",
        "    print(f\"است، وزن مناسب و سالم در رنج زیر است\")\n",
        "\n",
        "    print(f\"{min_weight:.2f} kg to {max_weight:.2f} kg\")\n",
        "\n",
        "if __name__ == \"__main__\":\n",
        "    main()\n"
      ],
      "metadata": {
        "colab": {
          "base_uri": "https://localhost:8080/"
        },
        "id": "kHMiF0eAE_jm",
        "outputId": "d5cc4a50-ff06-44b0-91a4-4af4d5c13719"
      },
      "execution_count": null,
      "outputs": [
        {
          "output_type": "stream",
          "name": "stdout",
          "text": [
            "Enter your height in centimeters: 167\n",
            "     برای قد شما که،  کیلو گرم 167.0\n",
            "است، وزن مناسب و سالم در رنج زیر است\n",
            "51.59 kg to 69.44 kg\n"
          ]
        }
      ]
    },
    {
      "cell_type": "code",
      "source": [],
      "metadata": {
        "id": "MbOunfJDFGVd"
      },
      "execution_count": null,
      "outputs": []
    }
  ]
}